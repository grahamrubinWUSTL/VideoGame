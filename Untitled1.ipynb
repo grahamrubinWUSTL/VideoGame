{
 "cells": [
  {
   "cell_type": "code",
   "execution_count": 20,
   "metadata": {},
   "outputs": [
    {
     "ename": "ImportError",
     "evalue": "cannot import name 'IBMQ' from 'qiskit' (/usr/local/lib/python3.7/site-packages/qiskit/__init__.py)",
     "output_type": "error",
     "traceback": [
      "\u001b[0;31m---------------------------------------------------------------------------\u001b[0m",
      "\u001b[0;31mImportError\u001b[0m                               Traceback (most recent call last)",
      "\u001b[0;32m<ipython-input-20-c815cda56524>\u001b[0m in \u001b[0;36m<module>\u001b[0;34m\u001b[0m\n\u001b[1;32m      1\u001b[0m \u001b[0;32mfrom\u001b[0m \u001b[0mqiskit\u001b[0m \u001b[0;32mimport\u001b[0m \u001b[0;34m*\u001b[0m\u001b[0;34m\u001b[0m\u001b[0;34m\u001b[0m\u001b[0m\n\u001b[0;32m----> 2\u001b[0;31m \u001b[0;32mfrom\u001b[0m \u001b[0mqiskit\u001b[0m \u001b[0;32mimport\u001b[0m \u001b[0mIBMQ\u001b[0m\u001b[0;34m\u001b[0m\u001b[0;34m\u001b[0m\u001b[0m\n\u001b[0m",
      "\u001b[0;31mImportError\u001b[0m: cannot import name 'IBMQ' from 'qiskit' (/usr/local/lib/python3.7/site-packages/qiskit/__init__.py)"
     ]
    }
   ],
   "source": [
    "from qiskit import *\n",
    "from qiskit import IBMQ\n"
   ]
  },
  {
   "cell_type": "code",
   "execution_count": 19,
   "metadata": {},
   "outputs": [
    {
     "ename": "NameError",
     "evalue": "name 'IBMQ' is not defined",
     "output_type": "error",
     "traceback": [
      "\u001b[0;31m---------------------------------------------------------------------------\u001b[0m",
      "\u001b[0;31mNameError\u001b[0m                                 Traceback (most recent call last)",
      "\u001b[0;32m<ipython-input-19-ccd988ff0ba2>\u001b[0m in \u001b[0;36m<module>\u001b[0;34m\u001b[0m\n\u001b[0;32m----> 1\u001b[0;31m \u001b[0mIBMQ\u001b[0m\u001b[0;34m.\u001b[0m\u001b[0msave_account\u001b[0m\u001b[0;34m(\u001b[0m\u001b[0;34m\"c6a036e002419ad2963adb4382e2004873dcdf2e725289bd26c1ffe26532ae480cf0ef5de528537ff1ccfdcba60621fc8a31e387f41de04c3c7a386a447d5e0e\"\u001b[0m\u001b[0;34m)\u001b[0m\u001b[0;34m\u001b[0m\u001b[0;34m\u001b[0m\u001b[0m\n\u001b[0m",
      "\u001b[0;31mNameError\u001b[0m: name 'IBMQ' is not defined"
     ]
    }
   ],
   "source": [
    "IBMQ.save_account(\"c6a036e002419ad2963adb4382e2004873dcdf2e725289bd26c1ffe26532ae480cf0ef5de528537ff1ccfdcba60621fc8a31e387f41de04c3c7a386a447d5e0e\")"
   ]
  },
  {
   "cell_type": "code",
   "execution_count": 18,
   "metadata": {},
   "outputs": [
    {
     "name": "stdout",
     "output_type": "stream",
     "text": [
      "         ┌───┐┌─┐\n",
      "q5_0: |0>┤ H ├┤M├\n",
      "         └───┘└╥┘\n",
      "q5_1: |0>──────╫─\n",
      "               ║ \n",
      " c5_0: 0 ══════╩═\n",
      "                 \n"
     ]
    },
    {
     "data": {
      "text/plain": [
       "{'0': 505, '1': 495}"
      ]
     },
     "execution_count": 18,
     "metadata": {},
     "output_type": "execute_result"
    }
   ],
   "source": [
    "qr = QuantumRegister(2)\n",
    "cr = ClassicalRegister(1)\n",
    "qc = QuantumCircuit(qr, cr)\n",
    "qc.h(qr[0])\n",
    "\n",
    "qc.measure(qr[0], cr[0])\n",
    "\n",
    "print(qc.draw())\n",
    "\n",
    "execute(qc, backend=Aer.get_backend(\"qasm_simulator\"), shots=1000).result().get_counts()"
   ]
  },
  {
   "cell_type": "code",
   "execution_count": null,
   "metadata": {},
   "outputs": [],
   "source": []
  }
 ],
 "metadata": {
  "kernelspec": {
   "display_name": "Python 3",
   "language": "python",
   "name": "python3"
  },
  "language_info": {
   "codemirror_mode": {
    "name": "ipython",
    "version": 3
   },
   "file_extension": ".py",
   "mimetype": "text/x-python",
   "name": "python",
   "nbconvert_exporter": "python",
   "pygments_lexer": "ipython3",
   "version": "3.7.4"
  }
 },
 "nbformat": 4,
 "nbformat_minor": 2
}
